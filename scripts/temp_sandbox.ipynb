{
 "cells": [
  {
   "cell_type": "code",
   "execution_count": 1,
   "id": "8597c9b9",
   "metadata": {},
   "outputs": [],
   "source": [
    "import sys \n",
    "import os\n",
    "from pathlib import Path"
   ]
  },
  {
   "cell_type": "code",
   "execution_count": 2,
   "id": "e73064fa",
   "metadata": {},
   "outputs": [],
   "source": [
    "output = \"LONG.tsv\"\n",
    "sample_path = Path(output).resolve()\n",
    "sample_name = sample_path.parts[-1]"
   ]
  },
  {
   "cell_type": "code",
   "execution_count": 8,
   "id": "45b5f1f0",
   "metadata": {},
   "outputs": [],
   "source": [
    "def find_file(filename, search_path=\".\"):\n",
    "    for root, dirs, files in os.walk(search_path):\n",
    "        if filename in files:\n",
    "            return os.path.join(root, filename)\n",
    "\n",
    "found_path = find_file(output,\".\")"
   ]
  },
  {
   "cell_type": "code",
   "execution_count": 4,
   "id": "7b5653ea",
   "metadata": {},
   "outputs": [
    {
     "data": {
      "text/plain": [
       "WindowsPath('//wsl.localhost/Ubuntu/home/bpeng/sunbeam/test_project/sunbeam_output/isolate/sylph/LONG.tsv')"
      ]
     },
     "execution_count": 4,
     "metadata": {},
     "output_type": "execute_result"
    }
   ],
   "source": [
    "sample_path"
   ]
  },
  {
   "cell_type": "code",
   "execution_count": 5,
   "id": "1cdaf727",
   "metadata": {},
   "outputs": [
    {
     "name": "stdout",
     "output_type": "stream",
     "text": [
      "Data from LONG.tsv:\n",
      "Sample_file: /home/bpeng/sunbeam/test_project/sunbeam_output/qc/decontam/LONG_1.fastq.gz\n",
      "Genome_file: /home/ctbus/Penn/sunbeam/tests/data/raw/Ecoli.fasta\n",
      "Taxonomic_abundance: 60.0440\n",
      "Sequence_abundance: 60.0440\n",
      "Adjusted_ANI: 99.40\n",
      "Eff_cov: 0.771\n",
      "ANI_5-95_percentile: 98.67-100.01\n",
      "Eff_lambda: 0.771\n",
      "Lambda_5-95_percentile: 0.59-1.04\n",
      "Median_cov: 1\n",
      "Mean_cov_geq1: 1.377\n",
      "Containment_ind: 159/357\n",
      "Naive_ANI: 97.42\n",
      "kmers_reassigned: 0\n",
      "Contig_name: NC_000913.3 Escherichia coli str. K-12 substr. MG1655, complete genome\n"
     ]
    }
   ],
   "source": [
    "with open(sample_path, \"r\") as file_obj:\n",
    "    filelines = file_obj.readlines()\n",
    "    if len(filelines) > 0:\n",
    "        keys = filelines[0].strip().split(\"\\t\")\n",
    "        values= filelines[1].strip().split(\"\\t\")\n",
    "        data_dict = dict(zip(keys, values))\n",
    "        print(f\"Data from {sample_name}:\")\n",
    "        for key, value in data_dict.items():\n",
    "            print(f\"{key}: {value}\")"
   ]
  },
  {
   "cell_type": "code",
   "execution_count": 7,
   "id": "a5e6369b",
   "metadata": {},
   "outputs": [],
   "source": [
    "sample_name = data_dict.get(\"Sample_file\", \"NA\")\n",
    "taxo_abundance = data_dict.get(\"Taxonomic_abundance\", \"NA\")\n",
    "contig = data_dict.get(\"Contig_name\", \"NA\")"
   ]
  },
  {
   "cell_type": "code",
   "execution_count": 8,
   "id": "75e05bba",
   "metadata": {},
   "outputs": [
    {
     "name": "stdout",
     "output_type": "stream",
     "text": [
      "Sample Name: /home/bpeng/sunbeam/test_project/sunbeam_output/qc/decontam/LONG_1.fastq.gz\n",
      "Taxonomic Abundance: 60.0440\n",
      "Contig Name: NC_000913.3 Escherichia coli str. K-12 substr. MG1655, complete genome\n"
     ]
    }
   ],
   "source": [
    "print(f\"Sample Name: {sample_name}\")\n",
    "print(f\"Taxonomic Abundance: {taxo_abundance}\")\n",
    "print(f\"Contig Name: {contig}\")"
   ]
  }
 ],
 "metadata": {
  "kernelspec": {
   "display_name": "base",
   "language": "python",
   "name": "python3"
  },
  "language_info": {
   "codemirror_mode": {
    "name": "ipython",
    "version": 3
   },
   "file_extension": ".py",
   "mimetype": "text/x-python",
   "name": "python",
   "nbconvert_exporter": "python",
   "pygments_lexer": "ipython3",
   "version": "3.11.7"
  }
 },
 "nbformat": 4,
 "nbformat_minor": 5
}
